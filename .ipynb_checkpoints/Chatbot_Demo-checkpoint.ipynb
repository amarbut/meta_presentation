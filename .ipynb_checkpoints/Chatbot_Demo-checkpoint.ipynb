{
 "cells": [
  {
   "cell_type": "code",
   "execution_count": 1,
   "id": "e9b89324-576c-4a25-ab50-87b17c1fcacf",
   "metadata": {},
   "outputs": [],
   "source": [
    "from openai import OpenAI\n",
    "import os\n",
    "client = OpenAI(api_key=os.environ[\"OPENAI_API_KEY\"])"
   ]
  },
  {
   "cell_type": "code",
   "execution_count": 2,
   "id": "20fed3b9-0333-419a-8534-a0126dcff394",
   "metadata": {},
   "outputs": [],
   "source": [
    "def build_prompt(system_message: str, user_message: str):\n",
    "    return [\n",
    "        {\"role\": \"system\", \"content\": system_message},\n",
    "        {\"role\": \"user\", \"content\": user_message}\n",
    "    ]"
   ]
  },
  {
   "cell_type": "markdown",
   "id": "bef3b23c-7143-4197-bd2e-4f663693e272",
   "metadata": {},
   "source": [
    "# Basic chatbot function"
   ]
  },
  {
   "cell_type": "code",
   "execution_count": 3,
   "id": "96e71ff7-a171-400b-8dc8-bc0bd111e86c",
   "metadata": {},
   "outputs": [
    {
     "name": "stdout",
     "output_type": "stream",
     "text": [
      "Resetting a Zoom Room tablet can vary slightly depending on the type of tablet you are using. However, the general steps are quite similar across different brands. Here's how you can reset a Zoom Room tablet:\n",
      "\n",
      "### Soft Reset (Restart)\n",
      "\n",
      "1. **Restart via Settings:**\n",
      "   - Go to the **Settings** app on your tablet.\n",
      "   - Find the **System** or **Device** section.\n",
      "   - Tap on **Restart** or **Reboot**.\n",
      "\n",
      "2. **Using the Power Button:**\n",
      "   - Press and hold the power button until you see options on the screen.\n",
      "   - Select the option to **Restart** or **Reboot**.\n",
      "\n",
      "### Factory Reset (This will erase all data on the tablet)\n",
      "\n",
      "**Note:** Ensure you have backed up any important data before performing a factory reset, as this will erase all data on the device.\n",
      "\n",
      "#### Android Tablet\n",
      "\n",
      "1. **Through Settings:**\n",
      "   - Go to the **Settings** app.\n",
      "   - Scroll down to the **System** or **General Management** section.\n",
      "   - Tap on **Reset** or **Backup & Reset**.\n",
      "   - Select **Factory Data Reset**.\n",
      "   - Confirm and follow the on-screen instructions to complete the reset.\n",
      "\n",
      "2. **Using Recovery Mode:**\n",
      "   - Turn off the tablet.\n",
      "   - Press and hold the **Volume Up** and **Power** buttons simultaneously until the manufacturer’s logo appears.\n",
      "   - Once in recovery mode, use the volume buttons to navigate to **Wipe Data/Factory Reset** and confirm it with the power button.\n",
      "\n",
      "#### iOS (iPad)\n",
      "\n",
      "1. **Through Settings:**\n",
      "   - Go to the **Settings** app.\n",
      "   - Navigate to **General**.\n",
      "   - Scroll down and tap on **Transfer or Reset iPad**.\n",
      "   - Select **Erase All Content and Settings**.\n",
      "   - Enter your passcode if prompted and confirm the reset.\n",
      "\n",
      "2. **Using iTunes/Finder:**\n",
      "   - Connect your iPad to a computer using a USB cable.\n",
      "   - Open iTunes (or Finder on macOS Catalina and later).\n",
      "   - Select your device when it appears.\n",
      "   - Click on **Restore iPad**.\n",
      "\n",
      "### Post-Reset\n",
      "\n",
      "After resetting your tablet, you will need to set it up again, including reinstalling and configuring the Zoom Rooms Controller app.\n",
      "\n",
      "If the tablet is part of a managed setup in a corporate or educational setting, you may need to contact your IT department for reconfiguration.\n"
     ]
    }
   ],
   "source": [
    "system_message =  \"You are a helpful assistant.\"\n",
    "user_message = \"How do I reset a Zoom Room tablet?\"\n",
    "\n",
    "messages = build_prompt(system_message, user_message)\n",
    "\n",
    "response = client.chat.completions.create(\n",
    "    model=\"gpt-4o\",\n",
    "    messages=messages\n",
    ")\n",
    "print(response.choices[0].message.content)\n"
   ]
  },
  {
   "cell_type": "markdown",
   "id": "fb953830-9586-46ee-8fb7-d94f71d36c7b",
   "metadata": {},
   "source": [
    "# Using system instructions "
   ]
  },
  {
   "cell_type": "code",
   "execution_count": 4,
   "id": "a7a9562a-c307-4a9f-8ae3-06e105dab290",
   "metadata": {},
   "outputs": [
    {
     "name": "stdout",
     "output_type": "stream",
     "text": [
      "I'll be happy to help with that. Could you please provide the room name and the device ID for the screen that's not turning on?\n"
     ]
    }
   ],
   "source": [
    "system_message = \"You are an internal IT helpdesk bot. Always ask for the room name and device ID before giving troubleshooting advice.\"\n",
    "user_message = \"The screen in my conference room isn't turning on.\"\n",
    "\n",
    "messages = build_prompt(system_message, user_message)\n",
    "\n",
    "response = client.chat.completions.create(\n",
    "    model=\"gpt-4o\",\n",
    "    messages=messages\n",
    ")\n",
    "print(response.choices[0].message.content)\n"
   ]
  },
  {
   "cell_type": "code",
   "execution_count": 5,
   "id": "29aa2590-2851-4ce4-b402-bd3f5f7806f2",
   "metadata": {},
   "outputs": [
    {
     "name": "stdout",
     "output_type": "stream",
     "text": [
      "Thank you for providing that information. How can I assist you with screen A15 in room 210 today?\n"
     ]
    }
   ],
   "source": [
    "user_message = \"Sure, I am in room 210 using screen A15.\"\n",
    "\n",
    "messages = build_prompt(system_message, user_message)\n",
    "\n",
    "response = client.chat.completions.create(\n",
    "    model=\"gpt-4o\",\n",
    "    messages=messages\n",
    ")\n",
    "print(response.choices[0].message.content)"
   ]
  },
  {
   "cell_type": "markdown",
   "id": "2927cf52-b20c-4edd-b527-db92d9f6b94a",
   "metadata": {},
   "source": [
    "### The OpenAI API is stateless, so need to append the entire conversation to create a continuous thread."
   ]
  },
  {
   "cell_type": "code",
   "execution_count": 6,
   "id": "6facd95d-e5a9-4b92-9689-d15240682cfd",
   "metadata": {},
   "outputs": [],
   "source": [
    "class ChatSession:\n",
    "    def __init__(self, system_prompt: str, model: str = \"gpt-4o\", api_key: str = None):\n",
    "        self.client = OpenAI(api_key=api_key)\n",
    "        self.model = model\n",
    "        self.messages = [{\"role\": \"system\", \"content\": system_prompt}]\n",
    "    \n",
    "    def send(self, user_input: str, temperature: float = 0.7) -> str:\n",
    "        '''iterative chat send'''\n",
    "        self.messages.append({\"role\": \"user\", \"content\": user_input})\n",
    "        response = self.client.chat.completions.create(\n",
    "            model=self.model,\n",
    "            messages=self.messages,\n",
    "            temperature=temperature\n",
    "        )\n",
    "        \n",
    "        assistant_reply = response.choices[0].message.content\n",
    "        self.messages.append({\"role\": \"assistant\", \"content\": assistant_reply})\n",
    "        return assistant_reply\n",
    "    \n",
    "    def reset(self, new_system_prompt: str = None):\n",
    "        if new_system_prompt:\n",
    "            self.messages = [{\"role\": \"system\", \"content\": new_system_prompt}]\n",
    "        else:\n",
    "            self.messages = self.messages[:1]  # keep original system prompt only\n",
    "    \n",
    "    def show_history(self):\n",
    "        return self.messages"
   ]
  },
  {
   "cell_type": "code",
   "execution_count": 7,
   "id": "88c0937a-a7d9-4233-ac61-dbff94a4a4d0",
   "metadata": {},
   "outputs": [],
   "source": [
    "session = ChatSession(\n",
    "    system_prompt=\"You are an internal IT helpdesk bot. Always ask for the room name and device ID before giving troubleshooting advice.\",\n",
    "    api_key=os.environ[\"OPENAI_API_KEY\"]\n",
    ")"
   ]
  },
  {
   "cell_type": "code",
   "execution_count": 8,
   "id": "bb807d96-a17a-4ed6-9985-38866cbe4819",
   "metadata": {},
   "outputs": [
    {
     "name": "stdout",
     "output_type": "stream",
     "text": [
      "Assistant: I'm sorry to hear that you're having trouble with the screen. Could you please provide the room name and the device ID of the screen? This information will help me assist you better.\n"
     ]
    }
   ],
   "source": [
    "reply1 = session.send(\"The screen in my conference room isn't turning on.\")\n",
    "print(\"Assistant:\", reply1)"
   ]
  },
  {
   "cell_type": "code",
   "execution_count": 9,
   "id": "e3d8a7df-3770-42aa-b875-ed45f370059a",
   "metadata": {},
   "outputs": [
    {
     "name": "stdout",
     "output_type": "stream",
     "text": [
      "Assistant: Thank you for providing the room name and device ID. Here are a few steps you can try to troubleshoot the issue with the screen in Room 3A:\n",
      "\n",
      "1. **Check Power Connection**: Ensure that the screen is properly connected to a power source. Check if the power cable is securely plugged into both the screen and the wall outlet.\n",
      "\n",
      "2. **Power Button**: Press the power button on the screen to see if it turns on. Sometimes, screens might be turned off manually.\n",
      "\n",
      "3. **Remote Control**: If there is a remote control for the screen, try using it to turn on the display.\n",
      "\n",
      "4. **Input Source**: Make sure the correct input source is selected. The screen might be set to a different input that doesn't have a signal.\n",
      "\n",
      "5. **Cables and Connections**: Verify that any cables connecting the screen to other devices (like a computer or media player) are securely connected.\n",
      "\n",
      "6. **Power Cycle**: Try unplugging the screen's power cable, wait for about 30 seconds, and then plug it back in. This can sometimes reset the device.\n",
      "\n",
      "If these steps don't resolve the issue, please let me know, and we can explore further options.\n"
     ]
    }
   ],
   "source": [
    "reply2 = session.send(\"It's Room 3A. The device ID is ZR3A-0093.\")\n",
    "print(\"Assistant:\", reply2)"
   ]
  },
  {
   "cell_type": "markdown",
   "id": "81671d09-454d-4aa6-bf50-8842bfc3b8be",
   "metadata": {},
   "source": [
    "# Integrating RAG"
   ]
  },
  {
   "cell_type": "code",
   "execution_count": 10,
   "id": "ac399c85-db04-4008-a1c4-62c8174aff1f",
   "metadata": {},
   "outputs": [
    {
     "name": "stdout",
     "output_type": "stream",
     "text": [
      "Assistant: If the Zoom Room tablet is unresponsive or frozen, you can try holding the power button for 10 seconds to restart it. This should help resolve the issue. If the problem persists, you might want to file a support ticket by going to go/support and clicking 'Report AV Issue'.\n"
     ]
    }
   ],
   "source": [
    "from langchain_openai import OpenAIEmbeddings\n",
    "from langchain.vectorstores import FAISS\n",
    "from langchain.chains import RetrievalQA\n",
    "from langchain.chat_models import ChatOpenAI\n",
    "\n",
    "docs = [\n",
    "    \"If a Zoom Room tablet is unresponsive, hold the power button for 10 seconds to restart it.\",\n",
    "    \"To reset a Cisco conferencing camera, unplug it for 30 seconds then plug it back in.\",\n",
    "    \"To file a support ticket, go to go/support and click 'Report AV Issue'.\"\n",
    "]\n",
    "\n",
    "# vector store creates an embedded representation of the docs\n",
    "vectorstore = FAISS.from_texts(docs, OpenAIEmbeddings())\n",
    "retriever = vectorstore.as_retriever()\n",
    "\n",
    "# first use the \"retriever\" to match embedded docs to the user message\n",
    "user_message = \"How can I fix a frozen Zoom Room screen?\"\n",
    "context_docs = retriever.invoke(user_message)\n",
    "context = \"\\n\".join(doc.page_content for doc in context_docs)\n",
    "\n",
    "# then feed this matched documentation to provide to the chatbot as additional context in the system message\n",
    "system_message = f\"You are a helpdesk assistant. Use the following context to answer user questions:\\n\\n{context}\"\n",
    "session = ChatSession(system_message, api_key=os.environ[\"OPENAI_API_KEY\"])\n",
    "response = session.send(user_message)\n",
    "print(\"Assistant:\", response)\n"
   ]
  },
  {
   "cell_type": "code",
   "execution_count": 11,
   "id": "7804c118-6dc2-4f19-9df6-f2196bb514ea",
   "metadata": {},
   "outputs": [
    {
     "name": "stderr",
     "output_type": "stream",
     "text": [
      "/tmp/ipykernel_997105/1924095349.py:16: LangChainDeprecationWarning: The method `BaseRetriever.get_relevant_documents` was deprecated in langchain-core 0.1.46 and will be removed in 1.0. Use :meth:`~invoke` instead.\n",
      "  context_docs = retriever.get_relevant_documents(query)\n"
     ]
    },
    {
     "name": "stdout",
     "output_type": "stream",
     "text": [
      "Assistant: To report a problem with the AV system, you should file an internal support ticket by following these steps:\n",
      "\n",
      "1. Go to go/support.\n",
      "2. Click \"New Request\".\n",
      "3. Choose the category \"AV or Meeting Rooms\".\n",
      "4. Provide room name, device ID, and a short description of the issue.\n",
      "\n",
      "This will ensure that your ticket is routed automatically to the AV team.\n"
     ]
    }
   ],
   "source": [
    "from langchain.document_loaders import DirectoryLoader, TextLoader, PyPDFLoader\n",
    "from langchain.text_splitter import RecursiveCharacterTextSplitter\n",
    "\n",
    "# load and format RAG docs\n",
    "loader = DirectoryLoader(\"RAG_docs\", glob=\"**/*.txt\", loader_cls=TextLoader)\n",
    "raw_docs = loader.load()\n",
    "splitter = RecursiveCharacterTextSplitter(chunk_size=500, chunk_overlap=50)\n",
    "chunks = splitter.split_documents(raw_docs)\n",
    "\n",
    "# create vector store of doc embeddings\n",
    "vectorstore = FAISS.from_documents(chunks, OpenAIEmbeddings())\n",
    "retriever = vectorstore.as_retriever()\n",
    "\n",
    "# retrieve relevant documentation\n",
    "query = \"Where should I go to report a problem with the AV system?\"\n",
    "context_docs = retriever.get_relevant_documents(query)\n",
    "context = \"\\n\".join(doc.page_content for doc in context_docs)\n",
    "\n",
    "# start chatbot session with query and retrieved context\n",
    "system_msg = f\"You are a company helpdesk bot. Use the following context to answer the user's question accurately:\\n\\n{context}\"\n",
    "session = ChatSession(system_msg, api_key=os.environ[\"OPENAI_API_KEY\"])\n",
    "response = session.send(query)\n",
    "print(\"Assistant:\", response)\n"
   ]
  },
  {
   "cell_type": "markdown",
   "id": "d33a0930-1070-48ad-9272-aadb1e64b9d0",
   "metadata": {},
   "source": [
    "# Generate Ticket"
   ]
  },
  {
   "cell_type": "code",
   "execution_count": 12,
   "id": "4423a926-ad79-4360-8c6a-98b5d9040bd5",
   "metadata": {},
   "outputs": [],
   "source": [
    "def generate_keywords_with_llm(query: str, reply: str, api_key: str, model: str = \"gpt-4o\") -> list[str]:    \n",
    "    keyword_prompt = (\n",
    "        \"You are an AI assistant that extracts relevant keywords from helpdesk queries and responses.\\n\"\n",
    "        \"Return a comma-separated list of 3 to 5 keywords.\\n\\n\"\n",
    "        f\"Query: {query}\\n\\n\"\n",
    "        f\"Response: {reply}\\n\\n\"\n",
    "        \"Keywords:\"\n",
    "    )\n",
    "\n",
    "    session = ChatSession(system_prompt=\"You extract helpful keywords from text.\", model=model, api_key=api_key)\n",
    "    keyword_string = session.send(keyword_prompt)\n",
    "    return [kw.strip() for kw in keyword_string.split(\",\") if kw.strip()]\n",
    "\n",
    "\n",
    "def create_ticket(user_query: str, assistant_reply: str, context_snippets: list[str], keywords: list[str]) -> dict:\n",
    "    return {\n",
    "        \"summary\": user_query,\n",
    "        \"response\": assistant_reply,\n",
    "        \"context_used\": context_snippets,\n",
    "        \"status\": \"open\",\n",
    "        \"created_by\": \"RAG-bot\",\n",
    "        \"category\": \"AV Support\",\n",
    "        \"keywords\": keywords\n",
    "    }"
   ]
  },
  {
   "cell_type": "code",
   "execution_count": 13,
   "id": "dc2f1ae2-b28b-40bb-b2b9-f9b98410dfda",
   "metadata": {},
   "outputs": [
    {
     "name": "stdout",
     "output_type": "stream",
     "text": [
      "Assistant: To report a problem with the AV system, go to go/support, click on \"New Request\", and choose the category \"AV or Meeting Rooms\". Be sure to provide the room name, device ID, and a short description of the issue. This will ensure your ticket is routed to the AV team automatically.\n",
      "\n",
      " Ticket Created:\n",
      "SUMMARY:\n",
      "Where should I go to report a problem with the AV system?\n",
      "\n",
      "RESPONSE:\n",
      "To report a problem with the AV system, go to go/support, click on \"New Request\", and choose the category \"AV or Meeting Rooms\". Be sure to provide the room name, device ID, and a short description of the issue. This will ensure your ticket is routed to the AV team automatically.\n",
      "\n",
      "CONTEXT_USED:\n",
      "To file an internal support ticket:\n",
      "\n",
      "1. Go to go/support.\n",
      "2. Click \"New Request\".\n",
      "3. Choose the category \"AV or Meeting Rooms\".\n",
      "4. Provide room name, device ID, and a short description of the issue.\n",
      "\n",
      "Tickets are routed to the AV team automatically when properly categorized.\n",
      "For suspected network issues in conference rooms:\n",
      "\n",
      "- Check the network status light on the switch under the table.\n",
      "- Try switching to a backup Wi-Fi SSID if available.\n",
      "- If all rooms in a region are offline, escalate to the network on-call.\n",
      "\n",
      "Note: Room tablets use PoE+ and may reboot during switch outages.\n",
      "To reset a Cisco Room camera:\n",
      "\n",
      "1. Unplug the device from power for 30 seconds.\n",
      "2. Reconnect power and wait for the LED to turn green.\n",
      "3. Ensure the camera firmware is up to date.\n",
      "\n",
      "If the camera fails to initialize, file an AV hardware ticket with the device serial number.\n",
      "If a Zoom Room tablet is unresponsive, press and hold the power button for 10 seconds to force a restart.\n",
      "\n",
      "If the room display is frozen or black, unplug the HDMI cable from the display and plug it back in. Wait at least 10 seconds before retrying.\n",
      "\n",
      "Do not reboot the room controller unless absolutely necessary.\n",
      "\n",
      "STATUS:\n",
      "open\n",
      "\n",
      "CREATED_BY:\n",
      "RAG-bot\n",
      "\n",
      "CATEGORY:\n",
      "AV Support\n",
      "\n",
      "KEYWORDS:\n",
      "['AV system', 'report problem', 'support', 'new request', 'AV team']\n",
      "\n"
     ]
    }
   ],
   "source": [
    "query = \"Where should I go to report a problem with the AV system?\"\n",
    "context_docs = retriever.invoke(query)\n",
    "context_snippets = [doc.page_content for doc in context_docs]\n",
    "context = \"\\n\".join(context_snippets)\n",
    "\n",
    "system_msg = f\"You are a company helpdesk bot. Use the following context to answer the user's question accurately:\\n\\n{context}\"\n",
    "session = ChatSession(system_msg, api_key=os.environ[\"OPENAI_API_KEY\"])\n",
    "assistant_reply = session.send(query)\n",
    "\n",
    "#generate keywords\n",
    "keywords = generate_keywords_with_llm(query, assistant_reply, api_key=os.environ[\"OPENAI_API_KEY\"])\n",
    "\n",
    "ticket = create_ticket(query, assistant_reply, context, keywords)\n",
    "\n",
    "# Show results\n",
    "print(\"Assistant:\", assistant_reply)\n",
    "print(\"\\n Ticket Created:\")\n",
    "for key, value in ticket.items():\n",
    "    print(f\"{key.upper()}:\\n{value}\\n\")\n"
   ]
  },
  {
   "cell_type": "markdown",
   "id": "917a0202-f64c-44f1-bddc-4ca74b2e1a8d",
   "metadata": {},
   "source": [
    "# More complete example\n",
    "\n",
    "#### Includes:\n",
    "- Keyword logic to recognize different types of user queries\n",
    "- Ongoing RAG capability\n",
    "- End of conversation behavior"
   ]
  },
  {
   "cell_type": "code",
   "execution_count": 14,
   "id": "4daaa6a8-3447-45ac-96dd-fa90d2a98e54",
   "metadata": {},
   "outputs": [],
   "source": [
    "from datetime import datetime\n",
    "from openai import OpenAI\n",
    "from langchain.schema import BaseRetriever\n",
    "\n",
    "class ChatSession:\n",
    "    def __init__(self, system_prompt: str, retriever: BaseRetriever = None, model: str = \"gpt-4o\", api_key: str = None):\n",
    "        self.client = OpenAI(api_key=api_key)\n",
    "        self.model = model\n",
    "        self.api_key = api_key\n",
    "        self.retriever = retriever\n",
    "        self.is_active = True\n",
    "        self.start_time = datetime.now()\n",
    "        self.messages = [{\"role\": \"system\", \"content\": system_prompt}]\n",
    "        self.retrieval_log = []  # store RAG context per turn if used\n",
    "\n",
    "    def handle_input(self, user_input: str, retriever=None, temperature: float = 0.7) -> str:\n",
    "        '''logic for using RAG and ending the session--hard coded'''\n",
    "        input_lower = user_input.lower()\n",
    "\n",
    "        self.messages.append({\"role\": \"user\", \"content\": user_input})\n",
    "        \n",
    "        # check for language indicating the end of the session\n",
    "        if any(phrase in input_lower for phrase in [\"that's all\", \"end session\", \"you can close this\", \"goodbye\", \"bye\", \"that's it\"]):\n",
    "            ticket = self.end()\n",
    "            print(\"📄 Ticket Generated:\\n\")\n",
    "            for k, v in ticket.items():\n",
    "                print(f\"{k.upper()}:\\n{v}\\n\")\n",
    "            return \"Session ended and ticket created.\"\n",
    "    \n",
    "        # check for language indicating that RAG should be used\n",
    "        use_rag = self.retriever is not None and any(kw in input_lower for kw in [\"lookup\", \"look up\", \"reference\", \"context\", \"support\", \"reset\", \"fix\", \"how do i\"])\n",
    "        \n",
    "        if use_rag:\n",
    "            return self.send_with_rag(user_input, temperature=temperature)\n",
    "        else:\n",
    "            return self.send(user_input, temperature=temperature)\n",
    "\n",
    "    def send(self, user_input: str, temperature: float = 0.7) -> str:\n",
    "        '''iterative chat send'''\n",
    "        if not self.is_active:\n",
    "            raise RuntimeError(\"This session has ended.\")\n",
    "            \n",
    "        self.messages.append({\"role\": \"user\", \"content\": user_input})\n",
    "        response = self.client.chat.completions.create(\n",
    "            model=self.model,\n",
    "            messages=self.messages,\n",
    "            temperature=temperature\n",
    "        )\n",
    "        \n",
    "        assistant_reply = response.choices[0].message.content\n",
    "        self.messages.append({\"role\": \"assistant\", \"content\": assistant_reply})\n",
    "        return assistant_reply\n",
    "\n",
    "    def send_with_rag(self, user_query: str, temperature: float = 0.7, include_context: bool = True) -> str:\n",
    "        '''iterative chat with RAG lookup'''\n",
    "        if not self.is_active:\n",
    "            raise RuntimeError(\"This session has ended.\")\n",
    "\n",
    "        if include_context:\n",
    "            context_docs = self.retriever.invoke(user_query)\n",
    "            context = \"\\n\".join(doc.page_content for doc in context_docs)\n",
    "            self.retrieval_log.append({\"query\": user_query, \"context\": context})\n",
    "            modified_query = f\"Context:\\n{context}\\n\\nQuestion:\\n{user_query}\"\n",
    "        else:\n",
    "            modified_query = user_query\n",
    "\n",
    "        return self.send(modified_query, temperature=temperature)\n",
    "\n",
    "    def reset(self, new_system_prompt: str = None):\n",
    "        if new_system_prompt:\n",
    "            self.messages = [{\"role\": \"system\", \"content\": new_system_prompt}]\n",
    "        else:\n",
    "            self.messages = self.messages[:1]\n",
    "        self.is_active = True\n",
    "\n",
    "    def show_history(self):\n",
    "        return self.messages\n",
    "\n",
    "    def end(self, generate_ticket: bool = True, use_llm_keywords: bool = True) -> dict:\n",
    "        '''end session and generate ticket'''\n",
    "        self.is_active = False\n",
    "    \n",
    "        if not generate_ticket:\n",
    "            return {}\n",
    "    \n",
    "        # combine entire conversation history\n",
    "        conversation_pairs = [\n",
    "            (self.messages[i][\"content\"], self.messages[i+1][\"content\"])\n",
    "            for i in range(1, len(self.messages)-1, 2)\n",
    "            if self.messages[i][\"role\"] == \"user\" and self.messages[i+1][\"role\"] == \"assistant\"\n",
    "        ]\n",
    "    \n",
    "        # use initial query and response for \"headline\" summary\n",
    "        user_query = conversation_pairs[0][0] if conversation_pairs else \"\"\n",
    "        assistant_reply = conversation_pairs[0][1] if conversation_pairs else \"\"\n",
    "    \n",
    "        # include all RAG context\n",
    "        context_snippets = [r[\"context\"] for r in self.retrieval_log]\n",
    "    \n",
    "        # generate keywords\n",
    "        if use_llm_keywords:\n",
    "            keywords = generate_keywords_with_llm(user_query, assistant_reply, api_key=self.api_key, model=self.model)\n",
    "    \n",
    "        ticket = {\n",
    "            \"headline\": {\n",
    "                \"question\": user_query,\n",
    "                \"answer\": assistant_reply,\n",
    "            },\n",
    "            \"keywords\": keywords,\n",
    "            \"timestamp\": datetime.now().isoformat(),\n",
    "            \"turns\": len([m for m in self.messages if m[\"role\"] == \"user\"]),\n",
    "            \"full_conversation\": self.messages,\n",
    "            \"rag_context_log\": self.retrieval_log\n",
    "        }\n",
    "        return ticket\n",
    "\n"
   ]
  },
  {
   "cell_type": "code",
   "execution_count": 15,
   "id": "d0594db9-707e-45cb-8b96-39844c5ba5f5",
   "metadata": {},
   "outputs": [
    {
     "name": "stdout",
     "output_type": "stream",
     "text": [
      "Assistant: To reset a Zoom Room controller, you should first try the following steps:\n",
      "\n",
      "1. **Restart the Zoom Room tablet**: Press and hold the power button on the tablet for about 10 seconds to force a restart. This can resolve many common issues without needing a full reset.\n",
      "\n",
      "2. **Check the HDMI connection**: If the room display is frozen or black, unplug the HDMI cable from the display and plug it back in. Wait at least 10 seconds before retrying.\n",
      "\n",
      "3. **Power cycle the Zoom Room controller**: While it's generally advised not to reboot the room controller unless absolutely necessary, if the above steps do not resolve the issue, you can proceed with a power cycle. Simply unplug the controller from power, wait for about 30 seconds, and then plug it back in.\n",
      "\n",
      "If the problem persists after these steps, you might want to consider filing an internal support ticket:\n",
      "\n",
      "1. Go to go/support.\n",
      "2. Click \"New Request\".\n",
      "3. Choose the category \"AV or Meeting Rooms\".\n",
      "4. Provide the room name, device ID, and a short description of the issue.\n",
      "\n",
      "Is there anything else you need help with?\n",
      "Assistant: If unplugging and re-plugging the HDMI cable does not resolve the black screen issue, you can try the following additional troubleshooting steps:\n",
      "\n",
      "1. **Check the Source Input**: Ensure the display is set to the correct input source. Sometimes the display might switch to a different input, leading to a black screen.\n",
      "\n",
      "2. **Inspect Cables and Connections**: Check all cables and connections between the Zoom Room controller, the display, and any intermediary devices like splitters or extenders. Ensure all cables are securely connected and that there is no visible damage.\n",
      "\n",
      "3. **Power Cycle the Display**: Turn off the display by pressing the power button or unplugging it from the power source. Wait for about 30 seconds, then power it back on.\n",
      "\n",
      "4. **Check for Network Issues**: Verify the network status light on the switch under the table. If there are suspected network issues, try switching to a backup Wi-Fi SSID if available. If multiple rooms in the same region are affected, it may be necessary to escalate to the network on-call.\n",
      "\n",
      "5. **Update Firmware**: Ensure that all devices, including the display and any connected peripherals, have the latest firmware updates installed.\n",
      "\n",
      "If none of these steps resolve the issue, consider filing an internal support ticket to escalate the matter:\n",
      "\n",
      "1. Go to go/support.\n",
      "2. Click \"New Request\".\n",
      "3. Choose the category \"AV or Meeting Rooms\".\n",
      "4. Provide the room name, device ID, and a short description of the issue.\n",
      "\n",
      "Is there anything else you need assistance with?\n",
      "📄 Ticket Generated:\n",
      "\n",
      "HEADLINE:\n",
      "{'question': 'Context:\\nIf a Zoom Room tablet is unresponsive, press and hold the power button for 10 seconds to force a restart.\\n\\nIf the room display is frozen or black, unplug the HDMI cable from the display and plug it back in. Wait at least 10 seconds before retrying.\\n\\nDo not reboot the room controller unless absolutely necessary.\\nFor suspected network issues in conference rooms:\\n\\n- Check the network status light on the switch under the table.\\n- Try switching to a backup Wi-Fi SSID if available.\\n- If all rooms in a region are offline, escalate to the network on-call.\\n\\nNote: Room tablets use PoE+ and may reboot during switch outages.\\nTo reset a Cisco Room camera:\\n\\n1. Unplug the device from power for 30 seconds.\\n2. Reconnect power and wait for the LED to turn green.\\n3. Ensure the camera firmware is up to date.\\n\\nIf the camera fails to initialize, file an AV hardware ticket with the device serial number.\\nTo file an internal support ticket:\\n\\n1. Go to go/support.\\n2. Click \"New Request\".\\n3. Choose the category \"AV or Meeting Rooms\".\\n4. Provide room name, device ID, and a short description of the issue.\\n\\nTickets are routed to the AV team automatically when properly categorized.\\n\\nQuestion:\\nCan you look up what to do if that doesn\\'t fix the black screen?', 'answer': 'If unplugging and re-plugging the HDMI cable does not resolve the black screen issue, you can try the following additional troubleshooting steps:\\n\\n1. **Check the Source Input**: Ensure the display is set to the correct input source. Sometimes the display might switch to a different input, leading to a black screen.\\n\\n2. **Inspect Cables and Connections**: Check all cables and connections between the Zoom Room controller, the display, and any intermediary devices like splitters or extenders. Ensure all cables are securely connected and that there is no visible damage.\\n\\n3. **Power Cycle the Display**: Turn off the display by pressing the power button or unplugging it from the power source. Wait for about 30 seconds, then power it back on.\\n\\n4. **Check for Network Issues**: Verify the network status light on the switch under the table. If there are suspected network issues, try switching to a backup Wi-Fi SSID if available. If multiple rooms in the same region are affected, it may be necessary to escalate to the network on-call.\\n\\n5. **Update Firmware**: Ensure that all devices, including the display and any connected peripherals, have the latest firmware updates installed.\\n\\nIf none of these steps resolve the issue, consider filing an internal support ticket to escalate the matter:\\n\\n1. Go to go/support.\\n2. Click \"New Request\".\\n3. Choose the category \"AV or Meeting Rooms\".\\n4. Provide the room name, device ID, and a short description of the issue.\\n\\nIs there anything else you need assistance with?'}\n",
      "\n",
      "KEYWORDS:\n",
      "['black screen', 'HDMI cable', 'power cycle', 'network issues', 'firmware updates']\n",
      "\n",
      "TIMESTAMP:\n",
      "2025-07-24T16:46:32.352787\n",
      "\n",
      "TURNS:\n",
      "5\n",
      "\n",
      "FULL_CONVERSATION:\n",
      "[{'role': 'system', 'content': 'You are an AV helpdesk bot. Use context when needed. Ask the user if they need anything else at the end of each response.'}, {'role': 'user', 'content': 'How do I reset a Zoom Room controller?'}, {'role': 'user', 'content': 'Context:\\nIf a Zoom Room tablet is unresponsive, press and hold the power button for 10 seconds to force a restart.\\n\\nIf the room display is frozen or black, unplug the HDMI cable from the display and plug it back in. Wait at least 10 seconds before retrying.\\n\\nDo not reboot the room controller unless absolutely necessary.\\nTo reset a Cisco Room camera:\\n\\n1. Unplug the device from power for 30 seconds.\\n2. Reconnect power and wait for the LED to turn green.\\n3. Ensure the camera firmware is up to date.\\n\\nIf the camera fails to initialize, file an AV hardware ticket with the device serial number.\\nTo file an internal support ticket:\\n\\n1. Go to go/support.\\n2. Click \"New Request\".\\n3. Choose the category \"AV or Meeting Rooms\".\\n4. Provide room name, device ID, and a short description of the issue.\\n\\nTickets are routed to the AV team automatically when properly categorized.\\nFor suspected network issues in conference rooms:\\n\\n- Check the network status light on the switch under the table.\\n- Try switching to a backup Wi-Fi SSID if available.\\n- If all rooms in a region are offline, escalate to the network on-call.\\n\\nNote: Room tablets use PoE+ and may reboot during switch outages.\\n\\nQuestion:\\nHow do I reset a Zoom Room controller?'}, {'role': 'assistant', 'content': 'To reset a Zoom Room controller, you should first try the following steps:\\n\\n1. **Restart the Zoom Room tablet**: Press and hold the power button on the tablet for about 10 seconds to force a restart. This can resolve many common issues without needing a full reset.\\n\\n2. **Check the HDMI connection**: If the room display is frozen or black, unplug the HDMI cable from the display and plug it back in. Wait at least 10 seconds before retrying.\\n\\n3. **Power cycle the Zoom Room controller**: While it\\'s generally advised not to reboot the room controller unless absolutely necessary, if the above steps do not resolve the issue, you can proceed with a power cycle. Simply unplug the controller from power, wait for about 30 seconds, and then plug it back in.\\n\\nIf the problem persists after these steps, you might want to consider filing an internal support ticket:\\n\\n1. Go to go/support.\\n2. Click \"New Request\".\\n3. Choose the category \"AV or Meeting Rooms\".\\n4. Provide the room name, device ID, and a short description of the issue.\\n\\nIs there anything else you need help with?'}, {'role': 'user', 'content': \"Can you look up what to do if that doesn't fix the black screen?\"}, {'role': 'user', 'content': 'Context:\\nIf a Zoom Room tablet is unresponsive, press and hold the power button for 10 seconds to force a restart.\\n\\nIf the room display is frozen or black, unplug the HDMI cable from the display and plug it back in. Wait at least 10 seconds before retrying.\\n\\nDo not reboot the room controller unless absolutely necessary.\\nFor suspected network issues in conference rooms:\\n\\n- Check the network status light on the switch under the table.\\n- Try switching to a backup Wi-Fi SSID if available.\\n- If all rooms in a region are offline, escalate to the network on-call.\\n\\nNote: Room tablets use PoE+ and may reboot during switch outages.\\nTo reset a Cisco Room camera:\\n\\n1. Unplug the device from power for 30 seconds.\\n2. Reconnect power and wait for the LED to turn green.\\n3. Ensure the camera firmware is up to date.\\n\\nIf the camera fails to initialize, file an AV hardware ticket with the device serial number.\\nTo file an internal support ticket:\\n\\n1. Go to go/support.\\n2. Click \"New Request\".\\n3. Choose the category \"AV or Meeting Rooms\".\\n4. Provide room name, device ID, and a short description of the issue.\\n\\nTickets are routed to the AV team automatically when properly categorized.\\n\\nQuestion:\\nCan you look up what to do if that doesn\\'t fix the black screen?'}, {'role': 'assistant', 'content': 'If unplugging and re-plugging the HDMI cable does not resolve the black screen issue, you can try the following additional troubleshooting steps:\\n\\n1. **Check the Source Input**: Ensure the display is set to the correct input source. Sometimes the display might switch to a different input, leading to a black screen.\\n\\n2. **Inspect Cables and Connections**: Check all cables and connections between the Zoom Room controller, the display, and any intermediary devices like splitters or extenders. Ensure all cables are securely connected and that there is no visible damage.\\n\\n3. **Power Cycle the Display**: Turn off the display by pressing the power button or unplugging it from the power source. Wait for about 30 seconds, then power it back on.\\n\\n4. **Check for Network Issues**: Verify the network status light on the switch under the table. If there are suspected network issues, try switching to a backup Wi-Fi SSID if available. If multiple rooms in the same region are affected, it may be necessary to escalate to the network on-call.\\n\\n5. **Update Firmware**: Ensure that all devices, including the display and any connected peripherals, have the latest firmware updates installed.\\n\\nIf none of these steps resolve the issue, consider filing an internal support ticket to escalate the matter:\\n\\n1. Go to go/support.\\n2. Click \"New Request\".\\n3. Choose the category \"AV or Meeting Rooms\".\\n4. Provide the room name, device ID, and a short description of the issue.\\n\\nIs there anything else you need assistance with?'}, {'role': 'user', 'content': \"That's all, thank you.\"}]\n",
      "\n",
      "RAG_CONTEXT_LOG:\n",
      "[{'query': 'How do I reset a Zoom Room controller?', 'context': 'If a Zoom Room tablet is unresponsive, press and hold the power button for 10 seconds to force a restart.\\n\\nIf the room display is frozen or black, unplug the HDMI cable from the display and plug it back in. Wait at least 10 seconds before retrying.\\n\\nDo not reboot the room controller unless absolutely necessary.\\nTo reset a Cisco Room camera:\\n\\n1. Unplug the device from power for 30 seconds.\\n2. Reconnect power and wait for the LED to turn green.\\n3. Ensure the camera firmware is up to date.\\n\\nIf the camera fails to initialize, file an AV hardware ticket with the device serial number.\\nTo file an internal support ticket:\\n\\n1. Go to go/support.\\n2. Click \"New Request\".\\n3. Choose the category \"AV or Meeting Rooms\".\\n4. Provide room name, device ID, and a short description of the issue.\\n\\nTickets are routed to the AV team automatically when properly categorized.\\nFor suspected network issues in conference rooms:\\n\\n- Check the network status light on the switch under the table.\\n- Try switching to a backup Wi-Fi SSID if available.\\n- If all rooms in a region are offline, escalate to the network on-call.\\n\\nNote: Room tablets use PoE+ and may reboot during switch outages.'}, {'query': \"Can you look up what to do if that doesn't fix the black screen?\", 'context': 'If a Zoom Room tablet is unresponsive, press and hold the power button for 10 seconds to force a restart.\\n\\nIf the room display is frozen or black, unplug the HDMI cable from the display and plug it back in. Wait at least 10 seconds before retrying.\\n\\nDo not reboot the room controller unless absolutely necessary.\\nFor suspected network issues in conference rooms:\\n\\n- Check the network status light on the switch under the table.\\n- Try switching to a backup Wi-Fi SSID if available.\\n- If all rooms in a region are offline, escalate to the network on-call.\\n\\nNote: Room tablets use PoE+ and may reboot during switch outages.\\nTo reset a Cisco Room camera:\\n\\n1. Unplug the device from power for 30 seconds.\\n2. Reconnect power and wait for the LED to turn green.\\n3. Ensure the camera firmware is up to date.\\n\\nIf the camera fails to initialize, file an AV hardware ticket with the device serial number.\\nTo file an internal support ticket:\\n\\n1. Go to go/support.\\n2. Click \"New Request\".\\n3. Choose the category \"AV or Meeting Rooms\".\\n4. Provide room name, device ID, and a short description of the issue.\\n\\nTickets are routed to the AV team automatically when properly categorized.'}]\n",
      "\n",
      "Session ended and ticket created.\n"
     ]
    }
   ],
   "source": [
    "s = ChatSession(\n",
    "    system_prompt=\"You are an AV helpdesk bot. Use context when needed. Ask the user if they need anything else at the end of each response.\",\n",
    "    api_key=os.environ[\"OPENAI_API_KEY\"],\n",
    "    retriever=retriever\n",
    ")\n",
    "\n",
    "# Simulate dialogue\n",
    "print(\"Assistant:\", s.handle_input(\"How do I reset a Zoom Room controller?\"))\n",
    "print(\"Assistant:\", s.handle_input(\"Can you look up what to do if that doesn't fix the black screen?\"))\n",
    "print(s.handle_input(\"That's all, thank you.\"))"
   ]
  },
  {
   "cell_type": "markdown",
   "id": "d3ea6dff-a1e6-408a-8a88-2f68cc86103c",
   "metadata": {},
   "source": [
    "### Other possible additions:\n",
    "- LLM logic to route queries (RAG, session end, live human?)\n",
    "- Ability to submit open ticket\n",
    "- Guardrails\n",
    "- ??"
   ]
  }
 ],
 "metadata": {
  "kernelspec": {
   "display_name": "Python 3 (ipykernel)",
   "language": "python",
   "name": "python3"
  },
  "language_info": {
   "codemirror_mode": {
    "name": "ipython",
    "version": 3
   },
   "file_extension": ".py",
   "mimetype": "text/x-python",
   "name": "python",
   "nbconvert_exporter": "python",
   "pygments_lexer": "ipython3",
   "version": "3.12.2"
  }
 },
 "nbformat": 4,
 "nbformat_minor": 5
}
