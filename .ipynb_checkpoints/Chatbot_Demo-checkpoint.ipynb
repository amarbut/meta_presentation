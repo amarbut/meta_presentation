{
 "cells": [
  {
   "cell_type": "code",
   "execution_count": 1,
   "id": "e9b89324-576c-4a25-ab50-87b17c1fcacf",
   "metadata": {},
   "outputs": [],
   "source": [
    "from openai import OpenAI\n",
    "import os\n",
    "client = OpenAI(api_key=os.environ[\"OPENAI_API_KEY\"])"
   ]
  },
  {
   "cell_type": "code",
   "execution_count": 2,
   "id": "20fed3b9-0333-419a-8534-a0126dcff394",
   "metadata": {},
   "outputs": [],
   "source": [
    "def build_prompt(system_message: str, user_message: str):\n",
    "    return [\n",
    "        {\"role\": \"system\", \"content\": system_message},\n",
    "        {\"role\": \"user\", \"content\": user_message}\n",
    "    ]"
   ]
  },
  {
   "cell_type": "markdown",
   "id": "bef3b23c-7143-4197-bd2e-4f663693e272",
   "metadata": {},
   "source": [
    "# Basic chatbot function"
   ]
  },
  {
   "cell_type": "code",
   "execution_count": 3,
   "id": "96e71ff7-a171-400b-8dc8-bc0bd111e86c",
   "metadata": {},
   "outputs": [
    {
     "name": "stdout",
     "output_type": "stream",
     "text": [
      "To reset a Zoom Room tablet, you'll need to perform a factory reset. Here's a general guide on how to do this, but be aware that the steps can vary slightly depending on the brand and model of the tablet you are using (such as an iPad, Android-based tablet, etc.). Here are the steps for some common devices:\n",
      "\n",
      "### For Apple iPad:\n",
      "1. **Back Up Your Data** (if needed): Before resetting, ensure any necessary data is backed up.\n",
      "2. **Open Settings** on the iPad.\n",
      "3. Go to **General**.\n",
      "4. Scroll down and tap **Transfer or Reset iPad**.\n",
      "5. Tap **Erase All Content and Settings**.\n",
      "6. Enter your passcode if required, and confirm that you want to erase the device.\n",
      "7. The iPad will restart and begin the reset process.\n",
      "\n",
      "### For Android Tablets:\n",
      "1. **Back Up Your Data** (if needed): Ensure important data is backed up as a reset will erase all data.\n",
      "2. **Open Settings** on the tablet.\n",
      "3. Navigate to **System** (you might need to expand the menu depending on the tablet's user interface).\n",
      "4. Tap on **Reset options**.\n",
      "5. Select **Erase all data (factory reset)**.\n",
      "6. Confirm you want to reset the device. You may need to enter your device password or PIN.\n",
      "7. The tablet will restart and initiate the reset process.\n",
      "\n",
      "### Post-Reset Setup\n",
      "After the tablet has been reset, you'll need to set it up again:\n",
      "\n",
      "1. **Follow the On-Screen Instructions**: Once the reset is complete, the device will restart and display the initial setup screen.\n",
      "2. **Connect to Wi-Fi**: You will need to connect the tablet to Wi-Fi if required.\n",
      "3. **Install Zoom Rooms Controller App**: Download and install the Zoom Rooms Controller app from the App Store or Google Play Store.\n",
      "4. **Set up Zoom Room Controller and Configure**: Use your Zoom account credentials to set up the Zoom Room Controller and reconfigure it for your specific Zoom Room.\n",
      "\n",
      "Remember that the interface and options might vary slightly based on the tablet brand and software version. Consult the specific user manual for your device model if you encounter issues or if the menu options are different.\n"
     ]
    }
   ],
   "source": [
    "system_message =  \"You are a helpful assistant.\"\n",
    "user_message = \"How do I reset a Zoom Room tablet?\"\n",
    "\n",
    "messages = build_prompt(system_message, user_message)\n",
    "\n",
    "response = client.chat.completions.create(\n",
    "    model=\"gpt-4o\",  # or \"gpt-3.5-turbo\" for lower cost\n",
    "    messages=messages\n",
    ")\n",
    "print(response.choices[0].message.content)\n"
   ]
  },
  {
   "cell_type": "markdown",
   "id": "fb953830-9586-46ee-8fb7-d94f71d36c7b",
   "metadata": {},
   "source": [
    "# Using system instructions "
   ]
  },
  {
   "cell_type": "code",
   "execution_count": 4,
   "id": "a7a9562a-c307-4a9f-8ae3-06e105dab290",
   "metadata": {},
   "outputs": [
    {
     "name": "stdout",
     "output_type": "stream",
     "text": [
      "I can help with that issue! Could you please provide me with the room name and the device ID of the screen?\n"
     ]
    }
   ],
   "source": [
    "system_message = \"You are an internal IT helpdesk bot. Always ask for the room name and device ID before giving troubleshooting advice.\"\n",
    "user_message = \"The screen in my conference room isn't turning on.\"\n",
    "\n",
    "messages = build_prompt(system_message, user_message)\n",
    "\n",
    "response = client.chat.completions.create(\n",
    "    model=\"gpt-4o\",  # or \"gpt-3.5-turbo\" for lower cost\n",
    "    messages=messages\n",
    ")\n",
    "print(response.choices[0].message.content)\n"
   ]
  },
  {
   "cell_type": "code",
   "execution_count": 5,
   "id": "29aa2590-2851-4ce4-b402-bd3f5f7806f2",
   "metadata": {},
   "outputs": [
    {
     "name": "stdout",
     "output_type": "stream",
     "text": [
      "Thank you for providing the room name and device ID. How can I assist you today with screen A15 in room 210?\n"
     ]
    }
   ],
   "source": [
    "user_message = \"Sure, I am in room 210 using screen A15.\"\n",
    "\n",
    "messages = build_prompt(system_message, user_message)\n",
    "\n",
    "response = client.chat.completions.create(\n",
    "    model=\"gpt-4o\",  # or \"gpt-3.5-turbo\" for lower cost\n",
    "    messages=messages\n",
    ")\n",
    "print(response.choices[0].message.content)"
   ]
  },
  {
   "cell_type": "markdown",
   "id": "2927cf52-b20c-4edd-b527-db92d9f6b94a",
   "metadata": {},
   "source": [
    "### The OpenAI API is stateless, so need to append the entire conversation to create a continuous thread."
   ]
  },
  {
   "cell_type": "code",
   "execution_count": 6,
   "id": "6facd95d-e5a9-4b92-9689-d15240682cfd",
   "metadata": {},
   "outputs": [],
   "source": [
    "class ChatSession:\n",
    "    def __init__(self, system_prompt: str, model: str = \"gpt-4o\", api_key: str = None):\n",
    "        self.client = OpenAI(api_key=api_key)\n",
    "        self.model = model\n",
    "        self.messages = [{\"role\": \"system\", \"content\": system_prompt}]\n",
    "    \n",
    "    def send(self, user_input: str, temperature: float = 0.7) -> str:\n",
    "        # Add user message\n",
    "        self.messages.append({\"role\": \"user\", \"content\": user_input})\n",
    "        \n",
    "        # Get model response\n",
    "        response = self.client.chat.completions.create(\n",
    "            model=self.model,\n",
    "            messages=self.messages,\n",
    "            temperature=temperature\n",
    "        )\n",
    "        \n",
    "        assistant_reply = response.choices[0].message.content\n",
    "        # Add assistant message to history\n",
    "        self.messages.append({\"role\": \"assistant\", \"content\": assistant_reply})\n",
    "        return assistant_reply\n",
    "    \n",
    "    def reset(self, new_system_prompt: str = None):\n",
    "        if new_system_prompt:\n",
    "            self.messages = [{\"role\": \"system\", \"content\": new_system_prompt}]\n",
    "        else:\n",
    "            self.messages = self.messages[:1]  # Keep original system prompt only\n",
    "    \n",
    "    def show_history(self):\n",
    "        return self.messages"
   ]
  },
  {
   "cell_type": "code",
   "execution_count": 7,
   "id": "88c0937a-a7d9-4233-ac61-dbff94a4a4d0",
   "metadata": {},
   "outputs": [
    {
     "name": "stdout",
     "output_type": "stream",
     "text": [
      "Assistant: I'm here to help with that. Could you please provide the room name and the device ID of the screen that isn't turning on?\n",
      "Assistant: Thank you for the information. Here are a few steps you can try to troubleshoot the screen issue in Room 3A with device ID ZR3A-0093:\n",
      "\n",
      "1. **Power Connection**: Ensure that the screen is properly connected to a power source. Check if the power cable is securely plugged into both the screen and the outlet.\n",
      "\n",
      "2. **Power Button**: Press the power button on the screen itself. Sometimes the screen might be turned off manually.\n",
      "\n",
      "3. **Remote Control**: If there's a remote control for the screen, try using it to turn the screen on. Make sure the batteries in the remote are working.\n",
      "\n",
      "4. **Input Source**: Verify that the screen is set to the correct input source. If it's connected to a computer or other device, ensure that the device is powered on and the cables are securely connected.\n",
      "\n",
      "5. **Power Cycle**: Try unplugging the screen from the power outlet, wait for about 30 seconds, and then plug it back in. This can sometimes reset the device.\n",
      "\n",
      "6. **Check for Indicator Lights**: Look for any indicator lights on the screen. They can provide clues about whether the screen is receiving power or if there is an error.\n",
      "\n",
      "If the issue persists after trying these steps, it might be a hardware problem requiring further assistance from an on-site technician. Let me know if you need additional help!\n"
     ]
    }
   ],
   "source": [
    "session = ChatSession(\n",
    "    system_prompt=\"You are an internal IT helpdesk bot. Always ask for the room name and device ID before giving troubleshooting advice.\",\n",
    "    api_key=os.environ[\"OPENAI_API_KEY\"]\n",
    ")\n",
    "\n",
    "# User sends first message\n",
    "reply1 = session.send(\"The screen in my conference room isn't turning on.\")\n",
    "print(\"Assistant:\", reply1)\n",
    "\n",
    "# User responds to assistant\n",
    "reply2 = session.send(\"It's Room 3A. The device ID is ZR3A-0093.\")\n",
    "print(\"Assistant:\", reply2)"
   ]
  },
  {
   "cell_type": "markdown",
   "id": "81671d09-454d-4aa6-bf50-8842bfc3b8be",
   "metadata": {},
   "source": [
    "# Integrating RAG"
   ]
  },
  {
   "cell_type": "code",
   "execution_count": 9,
   "id": "ac399c85-db04-4008-a1c4-62c8174aff1f",
   "metadata": {},
   "outputs": [
    {
     "name": "stdout",
     "output_type": "stream",
     "text": [
      "Assistant: If the Zoom Room tablet is unresponsive or frozen, you can try holding the power button for 10 seconds to restart it. This should help resolve the issue.\n"
     ]
    }
   ],
   "source": [
    "from langchain_openai import OpenAIEmbeddings\n",
    "from langchain.vectorstores import FAISS\n",
    "from langchain.chains import RetrievalQA\n",
    "from langchain.chat_models import ChatOpenAI\n",
    "\n",
    "docs = [\n",
    "    \"If a Zoom Room tablet is unresponsive, hold the power button for 10 seconds to restart it.\",\n",
    "    \"To reset a Cisco conferencing camera, unplug it for 30 seconds then plug it back in.\",\n",
    "    \"To file a support ticket, go to go/support and click 'Report AV Issue'.\"\n",
    "]\n",
    "\n",
    "# vector store creates an embedded representation of the docs\n",
    "vectorstore = FAISS.from_texts(docs, OpenAIEmbeddings())\n",
    "retriever = vectorstore.as_retriever()\n",
    "\n",
    "# first use the \"retriever\" to match embedded docs to the user message\n",
    "user_message = \"How can I fix a frozen Zoom Room screen?\"\n",
    "context_docs = retriever.invoke(user_message)\n",
    "context = \"\\n\".join(doc.page_content for doc in context_docs)\n",
    "\n",
    "# then feed this matched documentation to provide to the chatbot as additional context in the system message\n",
    "system_message = f\"You are a helpdesk assistant. Use the following context to answer user questions:\\n\\n{context}\"\n",
    "session = ChatSession(system_message, api_key=os.environ[\"OPENAI_API_KEY\"])\n",
    "response = session.send(user_message)\n",
    "print(\"Assistant:\", response)\n"
   ]
  },
  {
   "cell_type": "code",
   "execution_count": null,
   "id": "7804c118-6dc2-4f19-9df6-f2196bb514ea",
   "metadata": {},
   "outputs": [],
   "source": [
    "from langchain.document_loaders import DirectoryLoader, TextLoader, PyPDFLoader\n",
    "from langchain.text_splitter import RecursiveCharacterTextSplitter\n",
    "\n",
    "def extension_based_loader(file_path: str): #to handle either text or pdf files\n",
    "    if file_path.endswith(\".pdf\"):\n",
    "        return PyPDFLoader(file_path)\n",
    "    else:\n",
    "        return TextLoader(file_path)\n",
    "\n",
    "loader = DirectoryLoader(\n",
    "    path=\"my_docs\",\n",
    "    glob=\"**/*.*\",\n",
    "    loader_fn=extension_based_loader\n",
    ")\n",
    "\n",
    "documents = loader.load()\n",
    "\n",
    "# Split into chunks for better search\n",
    "splitter = RecursiveCharacterTextSplitter(chunk_size=500, chunk_overlap=50)\n",
    "chunks = splitter.split_documents(raw_docs)\n",
    "\n",
    "# Build vector store\n",
    "vectorstore = FAISS.from_documents(chunks, OpenAIEmbeddings())\n",
    "retriever = vectorstore.as_retriever()\n",
    "\n",
    "# User's question\n",
    "query = \"Where should I go to report a problem with the AV system?\"\n",
    "\n",
    "# Retrieve supporting context\n",
    "context_docs = retriever.get_relevant_documents(query)\n",
    "context = \"\\n\".join(doc.page_content for doc in context_docs)\n",
    "\n",
    "# Create chatbot session with injected context\n",
    "system_msg = f\"You are a company helpdesk bot. Use the following context to answer the user's question accurately:\\n\\n{context}\"\n",
    "session = ChatSession(system_msg, api_key=os.environ[\"OPENAI_API_KEY\"])\n",
    "response = session.send(query)\n",
    "print(\"Assistant:\", response)\n"
   ]
  }
 ],
 "metadata": {
  "kernelspec": {
   "display_name": "Python 3 (ipykernel)",
   "language": "python",
   "name": "python3"
  },
  "language_info": {
   "codemirror_mode": {
    "name": "ipython",
    "version": 3
   },
   "file_extension": ".py",
   "mimetype": "text/x-python",
   "name": "python",
   "nbconvert_exporter": "python",
   "pygments_lexer": "ipython3",
   "version": "3.12.2"
  }
 },
 "nbformat": 4,
 "nbformat_minor": 5
}
