{
 "cells": [
  {
   "cell_type": "code",
   "execution_count": 1,
   "id": "f127816d-7c5e-4a15-8a64-17bb3a8ac9ed",
   "metadata": {},
   "outputs": [
    {
     "name": "stderr",
     "output_type": "stream",
     "text": [
      "2025-07-24 16:44:16.144352: I tensorflow/core/platform/cpu_feature_guard.cc:210] This TensorFlow binary is optimized to use available CPU instructions in performance-critical operations.\n",
      "To enable the following instructions: AVX2 FMA, in other operations, rebuild TensorFlow with the appropriate compiler flags.\n"
     ]
    }
   ],
   "source": [
    "from transformers import AutoTokenizer, AutoModelForCausalLM, pipeline, BitsAndBytesConfig"
   ]
  },
  {
   "cell_type": "markdown",
   "id": "f4645494-0c03-4fa4-a0ba-1daaceb0ceef",
   "metadata": {},
   "source": [
    "# Load local model, tokenizer, and build generator"
   ]
  },
  {
   "cell_type": "code",
   "execution_count": 2,
   "id": "3a7a1753-659c-495c-ae8f-c599fdfd49c3",
   "metadata": {},
   "outputs": [
    {
     "name": "stderr",
     "output_type": "stream",
     "text": [
      "Special tokens have been added in the vocabulary, make sure the associated word embeddings are fine-tuned or trained.\n"
     ]
    }
   ],
   "source": [
    "model_path = \"/media/anna/Samsung_T5/Llama_models/Llama-3.2-1B-Instruct\"\n",
    "bnb_config = BitsAndBytesConfig(load_in_8bit=True) #quantize to speed up for demo\n",
    "\n",
    "tokenizer = AutoTokenizer.from_pretrained(model_path)\n",
    "model = AutoModelForCausalLM.from_pretrained(model_path, quantization_config=bnb_config, device_map=\"auto\")\n",
    "generator = pipeline(\"text-generation\", model=model, tokenizer=tokenizer)"
   ]
  },
  {
   "cell_type": "markdown",
   "id": "a1e89538-2037-40e6-9953-f4012c08013c",
   "metadata": {},
   "source": [
    "# Format prompts"
   ]
  },
  {
   "cell_type": "code",
   "execution_count": 3,
   "id": "45fdd989-f9e0-4d47-9250-0101bf2eb659",
   "metadata": {},
   "outputs": [],
   "source": [
    "def build_prompt(system_msg: str, user_msg: str) -> str:\n",
    "    return (\n",
    "        \"<|begin_of_text|><|start_header_id|>system<|end_header_id|>\\n\"\n",
    "        f\"{system_msg}\\n\"\n",
    "        \"<|start_header_id|>user<|end_header_id|>\\n\"\n",
    "        f\"{user_msg}\\n\"\n",
    "        \"<|start_header_id|>assistant<|end_header_id|>\\n\"\n",
    "    )\n",
    "\n",
    "system_prompt_1 = \"You are a helpful assistant that is teaching a 5th grade class.\"\n",
    "system_prompt_2 = \"You are a helpful assistant that is teaching a university level class.\"\n",
    "user_input = \"Why is the sky blue?\"\n"
   ]
  },
  {
   "cell_type": "markdown",
   "id": "13cbe549-ac4e-4b68-b117-e7f5e2c10f43",
   "metadata": {},
   "source": [
    "# Compare outputs for different prompts"
   ]
  },
  {
   "cell_type": "code",
   "execution_count": 4,
   "id": "328d4d72-e904-4aa8-b279-4334560685a8",
   "metadata": {},
   "outputs": [
    {
     "name": "stderr",
     "output_type": "stream",
     "text": [
      "Setting `pad_token_id` to `eos_token_id`:128001 for open-end generation.\n"
     ]
    },
    {
     "name": "stdout",
     "output_type": "stream",
     "text": [
      "<|begin_of_text|><|start_header_id|>system<|end_header_id|>\n",
      "You are a helpful assistant that is teaching a 5th grade class.\n",
      "<|start_header_id|>user<|end_header_id|>\n",
      "Why is the sky blue?\n",
      "<|start_header_id|>assistant<|end_header_id|>\n",
      "That's a great question, class!\n",
      "\n",
      "So, you know how we're always outside on a sunny day and a bright day, right? Well, the sky is actually blue because of a thing called light. It's the light that comes from the sun, and when it hits the Earth, it makes the sky look blue.\n",
      "\n",
      "But why is the sky blue? Not because of the Earth, or the air or anything like that. The Earth is actually transparent, which means it lets light through. But the air is not. The air is white, because it scatters light. When light hits it, it makes it look white.\n",
      "\n",
      "Imagine you have a mirror and it and you put a big ball on it. When you put it on it, it looks like it's reflecting light. But if you put it on a dark side, it looks like it's not reflecting. That's because light is scattered. When it hits the Earth, it looks blue.\n",
      "\n",
      "That's why the sky is blue.\n"
     ]
    }
   ],
   "source": [
    "full_prompt_1 = build_prompt(system_prompt_1, user_input)\n",
    "response = generator(full_prompt_1, max_new_tokens=256, do_sample=True, temperature=0.7)\n",
    "print(response[0][\"generated_text\"])\n"
   ]
  },
  {
   "cell_type": "code",
   "execution_count": 5,
   "id": "36b4f2b5-cd95-41ab-9038-e3a84a2cbe8c",
   "metadata": {},
   "outputs": [
    {
     "name": "stderr",
     "output_type": "stream",
     "text": [
      "Setting `pad_token_id` to `eos_token_id`:128001 for open-end generation.\n"
     ]
    },
    {
     "name": "stdout",
     "output_type": "stream",
     "text": [
      "<|begin_of_text|><|start_header_id|>system<|end_header_id|>\n",
      "You are a helpful assistant that is teaching a university level class.\n",
      "<|start_header_id|>user<|end_header_id|>\n",
      "Why is the sky blue?\n",
      "<|start_header_id|>assistant<|end_header_id|>\n",
      "The color of the sky is a fascinating topic that has puzzled humans for centuries. There are several theories on why the sky appears blue, and some of them are supported by scientific evidence. Here are some of the main reasons why the sky is blue:\n",
      "\n",
      "1. **Atmospheric gases**: The atmosphere is composed of various gases such as nitrogen, oxygen, oxygen, and carbon dioxide. These gases scatter shorter wavelengths of light more efficiently than longer wavelengths. This phenomenon is known as Rayleigh scattering. The blue light is scattered more than the red light because it is closer to the wavelength of the gas molecules in the atmosphere.\n"
     ]
    }
   ],
   "source": [
    "full_prompt_2 = build_prompt(system_prompt_2, user_input)\n",
    "response = generator(full_prompt_2, max_new_tokens=256, do_sample=True, temperature=0.7)\n",
    "print(response[0][\"generated_text\"])"
   ]
  },
  {
   "cell_type": "markdown",
   "id": "d2786c19-fa49-4643-8f5c-52e1b0b8b3ed",
   "metadata": {},
   "source": [
    "# More complex prompt"
   ]
  },
  {
   "cell_type": "code",
   "execution_count": 6,
   "id": "541eb827-fc4a-475a-9d77-26f8adba8200",
   "metadata": {},
   "outputs": [],
   "source": [
    "system_prompt_3 = '''You are a helpful assistant that is teaching a university level class. \n",
    "Please format your output as a json object with fields for relevant metadata.'''\n",
    "user_input = \"Why is the sky blue?\"\n",
    "\n",
    "full_prompt_3 = build_prompt(system_prompt_3, user_input)"
   ]
  },
  {
   "cell_type": "code",
   "execution_count": 7,
   "id": "d6cf96fb-d484-4b91-9a29-00d07cc5ea4e",
   "metadata": {},
   "outputs": [
    {
     "name": "stderr",
     "output_type": "stream",
     "text": [
      "Setting `pad_token_id` to `eos_token_id`:128001 for open-end generation.\n"
     ]
    },
    {
     "name": "stdout",
     "output_type": "stream",
     "text": [
      "<|begin_of_text|><|start_header_id|>system<|end_header_id|>\n",
      "You are a helpful assistant that is teaching a university level class. \n",
      "Please format your output as a json object with fields for relevant metadata.\n",
      "<|start_header_id|>user<|end_header_id|>\n",
      "Why is the sky blue?\n",
      "<|start_header_id|>assistant<|end_header_id|>\n",
      "{\n",
      "    \"metadata\": {\n",
      "        \"subject\": \"Question 1: Why is the sky blue?\",\n",
      "        \"level\": \"University Level\",\n",
      "        \"subjectType\": \"Question\",\n",
      "        \"date\": \"2023-03-03-10T12\",\n",
      "        \"Time\": 00:00,\n",
      "        \"instructor\": \"Your Name\",\n",
      "        \"\":\": \"Your Name\",\n",
      "        \"email\": \"assistant.\",\n",
      "        \"format\": \"json\n",
      "    },\n",
      "    \"answer\": \"The sky appears blue because of a phenomenon called Rayleigh scattering, in which is a scattering of light by small particles of air molecules in the atmosphere.\",\n",
      "    \"context\": \"Science and Environment\",\n",
      "    \"type\":Question,\n",
      "    \"answerType\": \"Why\"\n"
     ]
    }
   ],
   "source": [
    "# Run generation\n",
    "response = generator(full_prompt_3, max_new_tokens=256, do_sample=True, temperature=0.7)\n",
    "print(response[0][\"generated_text\"])"
   ]
  },
  {
   "cell_type": "code",
   "execution_count": 8,
   "id": "d4787540-2603-481d-bd7e-86b079816530",
   "metadata": {},
   "outputs": [],
   "source": [
    "system_prompt_4 = '''You are a helpful assistant that is teaching a university level class. \n",
    "Please format your output as a json object with fields for title, response, timestamp, and keywords.'''\n",
    "user_input = \"Why is the sky blue?\"\n",
    "\n",
    "full_prompt_4 = build_prompt(system_prompt_4, user_input)"
   ]
  },
  {
   "cell_type": "code",
   "execution_count": null,
   "id": "015f534f-6ff5-4ce9-b453-cfbadf60fa84",
   "metadata": {},
   "outputs": [
    {
     "name": "stderr",
     "output_type": "stream",
     "text": [
      "Setting `pad_token_id` to `eos_token_id`:128001 for open-end generation.\n"
     ]
    }
   ],
   "source": [
    "# Run generation\n",
    "response = generator(full_prompt_4, max_new_tokens=256, do_sample=True, temperature=0.7)\n",
    "print(response[0][\"generated_text\"])"
   ]
  }
 ],
 "metadata": {
  "kernelspec": {
   "display_name": "Python 3 (ipykernel)",
   "language": "python",
   "name": "python3"
  },
  "language_info": {
   "codemirror_mode": {
    "name": "ipython",
    "version": 3
   },
   "file_extension": ".py",
   "mimetype": "text/x-python",
   "name": "python",
   "nbconvert_exporter": "python",
   "pygments_lexer": "ipython3",
   "version": "3.12.2"
  }
 },
 "nbformat": 4,
 "nbformat_minor": 5
}
