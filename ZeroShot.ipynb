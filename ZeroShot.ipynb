{
 "cells": [
  {
   "cell_type": "code",
   "execution_count": 1,
   "id": "f127816d-7c5e-4a15-8a64-17bb3a8ac9ed",
   "metadata": {},
   "outputs": [
    {
     "name": "stderr",
     "output_type": "stream",
     "text": [
      "2025-06-19 12:42:25.388685: I tensorflow/core/platform/cpu_feature_guard.cc:210] This TensorFlow binary is optimized to use available CPU instructions in performance-critical operations.\n",
      "To enable the following instructions: AVX2 FMA, in other operations, rebuild TensorFlow with the appropriate compiler flags.\n"
     ]
    }
   ],
   "source": [
    "from transformers import AutoTokenizer, AutoModelForCausalLM, pipeline, BitsAndBytesConfig"
   ]
  },
  {
   "cell_type": "markdown",
   "id": "f4645494-0c03-4fa4-a0ba-1daaceb0ceef",
   "metadata": {},
   "source": [
    "# Load local model, tokenizer, and build generator"
   ]
  },
  {
   "cell_type": "code",
   "execution_count": 2,
   "id": "3a7a1753-659c-495c-ae8f-c599fdfd49c3",
   "metadata": {},
   "outputs": [
    {
     "name": "stderr",
     "output_type": "stream",
     "text": [
      "Special tokens have been added in the vocabulary, make sure the associated word embeddings are fine-tuned or trained.\n"
     ]
    }
   ],
   "source": [
    "model_path = \"/media/anna/Samsung_T5/Llama_models/Llama-3.2-1B-Instruct\"\n",
    "bnb_config = BitsAndBytesConfig(load_in_8bit=True) #quantize to speed up for demo\n",
    "\n",
    "tokenizer = AutoTokenizer.from_pretrained(model_path)\n",
    "model = AutoModelForCausalLM.from_pretrained(model_path, quantization_config=bnb_config, device_map=\"auto\")\n",
    "generator = pipeline(\"text-generation\", model=model, tokenizer=tokenizer)"
   ]
  },
  {
   "cell_type": "markdown",
   "id": "a1e89538-2037-40e6-9953-f4012c08013c",
   "metadata": {},
   "source": [
    "# Format prompts"
   ]
  },
  {
   "cell_type": "code",
   "execution_count": 11,
   "id": "45fdd989-f9e0-4d47-9250-0101bf2eb659",
   "metadata": {},
   "outputs": [],
   "source": [
    "def build_prompt(system_msg: str, user_msg: str) -> str:\n",
    "    return (\n",
    "        \"<|begin_of_text|><|start_header_id|>system<|end_header_id|>\\n\"\n",
    "        f\"{system_msg}\\n\"\n",
    "        \"<|start_header_id|>user<|end_header_id|>\\n\"\n",
    "        f\"{user_msg}\\n\"\n",
    "        \"<|start_header_id|>assistant<|end_header_id|>\\n\"\n",
    "    )\n",
    "\n",
    "system_prompt_1 = \"You are a helpful assistant that is teaching a 5th grade class.\"\n",
    "system_prompt_2 = \"You are a helpful assistant that is teaching a university level class.\"\n",
    "user_input = \"Why is the sky blue?\"\n",
    "\n",
    "full_prompt = build_prompt(system_prompt, user_input)"
   ]
  },
  {
   "cell_type": "markdown",
   "id": "13cbe549-ac4e-4b68-b117-e7f5e2c10f43",
   "metadata": {},
   "source": [
    "# Compare outputs for different prompts"
   ]
  },
  {
   "cell_type": "code",
   "execution_count": 12,
   "id": "328d4d72-e904-4aa8-b279-4334560685a8",
   "metadata": {},
   "outputs": [
    {
     "name": "stderr",
     "output_type": "stream",
     "text": [
      "Setting `pad_token_id` to `eos_token_id`:128001 for open-end generation.\n"
     ]
    },
    {
     "name": "stdout",
     "output_type": "stream",
     "text": [
      "<|begin_of_text|><|start_header_id|>system<|end_header_id|>\n",
      "You are a helpful assistant that is teaching a university level class.\n",
      "<|start_header_id|>user<|end_header_id|>\n",
      "Why is the sky blue?\n",
      "<|start_header_id|>assistant<|end_header_id|>\n",
      "The color of the sky is a fundamental aspect of our visual experience and understanding of the world around us, and it has been extensively studied and debated by scientists, philosophers, and artists. \n",
      "\n",
      "The sky appears blue to us because of the way that light behaves when it passes from the Earth to atmosphere. The sky is filled with a layer of gases, mainly nitrogen and oxygen, and carbon dioxide that scatter the light in all directions, and this is known as Rayleigh scattering. \n",
      "\n",
      "Here is a simple explanation of what is happening:\n",
      "\n",
      "When sunlight enters the atmosphere, it travels a distance of approximately 1.5 kilometers, then it encounters the atmosphere and it gets scattered. Due to the small size of the molecules of the gas, it is scattered in all directions, and the amount of scattered light is in all directions. The amount of light is scattered in all directions is equal to the amount of light that is scattered in all directions by the sun, it is a little more than the amount of light in the sun direction of the sky.\n",
      "\n",
      "The reason that the blue color appears is because the amount of scattered light in all directions is in blue. The amount of light that is scattered in all directions is blue.\n"
     ]
    }
   ],
   "source": [
    "response = generator(full_prompt_1, max_new_tokens=256, do_sample=True, temperature=0.7)\n",
    "print(response[0][\"generated_text\"])\n"
   ]
  },
  {
   "cell_type": "code",
   "execution_count": null,
   "id": "36b4f2b5-cd95-41ab-9038-e3a84a2cbe8c",
   "metadata": {},
   "outputs": [],
   "source": [
    "response = generator(full_prompt_2, max_new_tokens=256, do_sample=True, temperature=0.7)\n",
    "print(response[0][\"generated_text\"])"
   ]
  },
  {
   "cell_type": "markdown",
   "id": "d2786c19-fa49-4643-8f5c-52e1b0b8b3ed",
   "metadata": {},
   "source": [
    "# More complex prompt"
   ]
  },
  {
   "cell_type": "code",
   "execution_count": 21,
   "id": "541eb827-fc4a-475a-9d77-26f8adba8200",
   "metadata": {},
   "outputs": [],
   "source": [
    "system_prompt = '''You are a helpful assistant that is teaching a university level class. \n",
    "Please format your output as a json object with title and response fields'''\n",
    "user_input = \"Why is the sky blue?\"\n",
    "\n",
    "full_prompt = build_prompt(system_prompt, user_input)"
   ]
  },
  {
   "cell_type": "code",
   "execution_count": 22,
   "id": "d6cf96fb-d484-4b91-9a29-00d07cc5ea4e",
   "metadata": {},
   "outputs": [
    {
     "name": "stderr",
     "output_type": "stream",
     "text": [
      "Setting `pad_token_id` to `eos_token_id`:128001 for open-end generation.\n"
     ]
    },
    {
     "name": "stdout",
     "output_type": "stream",
     "text": [
      "<|begin_of_text|><|start_header_id|>system<|end_header_id|>\n",
      "You are a helpful assistant that is teaching a university level class. \n",
      "Please format your output as a json object with title and response fields\n",
      "<|start_header_id|>user<|end_header_id|>\n",
      "Why is the sky blue?\n",
      "<|start_header_id|>assistant<|end_header_id|>\n",
      "{\n",
      "  \"Title\": \"Why the Sky is Blue\",\n",
      "  \"Description\": \"The sky appears blue due to a phenomenon known as Rayleigh scattering, which causes shorter wavelengths of blue light to scatter more than other colors, resulting in the perception of blue sky color.\",\n",
      " \"Explanation\": \" Rayleigh scattering occurs when light interacts with the small molecules of gases in atmosphere, particles in the sky. The shorter blue light is scattered by more than other colors, producing blue color.\",\n",
      " \"Example\": \"The blue color of the sky is not always the same throughout the day, as it changes with atmospheric conditions such as pollution and dust particles in the atmosphere, which scatter light in different way.\"\n",
      " \"Conclusion\": \"The blue sky color is a result of the interaction between light and the atmosphere, and the small particles in the atmosphere, causing the blue color that we see.\"\n"
     ]
    }
   ],
   "source": [
    "# Run generation\n",
    "response = generator(full_prompt, max_new_tokens=256, do_sample=True, temperature=0.7)\n",
    "print(response[0][\"generated_text\"])"
   ]
  },
  {
   "cell_type": "code",
   "execution_count": 27,
   "id": "d4787540-2603-481d-bd7e-86b079816530",
   "metadata": {},
   "outputs": [],
   "source": [
    "system_prompt = '''You are a helpful assistant that is teaching a university level class. \n",
    "Please format your output as a json object with fields for title, response, and relevant metadata like a timestamp and keywords.'''\n",
    "user_input = \"Why is the sky blue?\"\n",
    "\n",
    "full_prompt = build_prompt(system_prompt, user_input)"
   ]
  },
  {
   "cell_type": "code",
   "execution_count": 28,
   "id": "015f534f-6ff5-4ce9-b453-cfbadf60fa84",
   "metadata": {},
   "outputs": [
    {
     "name": "stderr",
     "output_type": "stream",
     "text": [
      "Setting `pad_token_id` to `eos_token_id`:128001 for open-end generation.\n"
     ]
    },
    {
     "name": "stdout",
     "output_type": "stream",
     "text": [
      "<|begin_of_text|><|start_header_id|>system<|end_header_id|>\n",
      "You are a helpful assistant that is teaching a university level class. \n",
      "Please format your output as a json object with fields for title, response, and relevant metadata like a timestamp and keywords.\n",
      "<|start_header_id|>user<|end_header_id|>\n",
      "Why is the sky blue?\n",
      "<|start_header_id|>assistant<|end_header_id|>\n",
      "**Response:**\n",
      "{\n",
      "  \"title\": \"Why is the sky blue?\",\n",
      "  \"date\": \"2021-01-01-01 00 00:00:00:00\",\n",
      "  \"keywords\": [\"blue sky, color, atmospheric science, physics\"],\n",
      "  \"metadata\": {\n",
      "    \"author\": \"John Doe\",\n",
      "    \"description\": \"A brief explanation of why the sky appears blue to us\",\n",
      "    \"tags\": [\"optics, light scattering, visibility\"]\n",
      "}\n"
     ]
    }
   ],
   "source": [
    "# Run generation\n",
    "response = generator(full_prompt, max_new_tokens=256, do_sample=True, temperature=0.7)\n",
    "print(response[0][\"generated_text\"])"
   ]
  }
 ],
 "metadata": {
  "kernelspec": {
   "display_name": "Python 3 (ipykernel)",
   "language": "python",
   "name": "python3"
  },
  "language_info": {
   "codemirror_mode": {
    "name": "ipython",
    "version": 3
   },
   "file_extension": ".py",
   "mimetype": "text/x-python",
   "name": "python",
   "nbconvert_exporter": "python",
   "pygments_lexer": "ipython3",
   "version": "3.12.2"
  }
 },
 "nbformat": 4,
 "nbformat_minor": 5
}
